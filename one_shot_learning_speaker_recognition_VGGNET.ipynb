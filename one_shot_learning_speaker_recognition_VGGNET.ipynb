{
  "nbformat": 4,
  "nbformat_minor": 0,
  "metadata": {
    "colab": {
      "name": "one_shot_learning.ipynb",
      "version": "0.3.2",
      "provenance": [],
      "collapsed_sections": []
    },
    "kernelspec": {
      "name": "python3",
      "display_name": "Python 3"
    },
    "accelerator": "GPU"
  },
  "cells": [
    {
      "cell_type": "markdown",
      "metadata": {
        "id": "OOKFw0k8scNw",
        "colab_type": "text"
      },
      "source": [
        "![alt text](https://sijai.com/wp-content/uploads/2017/07/bismillahirrahmanirrahim-khasiatobatdaunsirsakblog-wordpress-com-1.jpg)"
      ]
    },
    {
      "cell_type": "markdown",
      "metadata": {
        "id": "s8Bo3dn78x-1",
        "colab_type": "text"
      },
      "source": [
        "Referensi Paper : \n",
        "\n",
        "\n",
        "1. https://arxiv.org/pdf/1809.04115.pdf\n",
        "\n",
        "\n",
        "\n",
        "Hint Parameter : \n",
        "1.   https://towardsdatascience.com/hyper-parameters-in-action-part-ii-weight-initializers-35aee1a28404\n",
        "2.   http://cs231n.github.io/neural-networks-3/#gradcheck\n",
        "\n",
        "Hint Test Model : \n",
        "\n",
        "1.   https://github.com/zdmc23/oneshot-audio/blob/master/OneShot.ipynb\n",
        "\n",
        "\n",
        "\n"
      ]
    },
    {
      "cell_type": "code",
      "metadata": {
        "id": "9yLijgZscjWF",
        "colab_type": "code",
        "outputId": "a905f26f-4a99-4fc9-b7e1-37c11e27bbed",
        "colab": {
          "base_uri": "https://localhost:8080/",
          "height": 34
        }
      },
      "source": [
        "from google.colab import drive\n",
        "drive.mount('/content/drive')"
      ],
      "execution_count": 0,
      "outputs": [
        {
          "output_type": "stream",
          "text": [
            "Drive already mounted at /content/drive; to attempt to forcibly remount, call drive.mount(\"/content/drive\", force_remount=True).\n"
          ],
          "name": "stdout"
        }
      ]
    },
    {
      "cell_type": "code",
      "metadata": {
        "id": "fkyYzfbascqI",
        "colab_type": "code",
        "outputId": "fc3b2c67-1785-42de-df30-57f9775ee4bd",
        "colab": {
          "base_uri": "https://localhost:8080/",
          "height": 34
        }
      },
      "source": [
        "from keras.layers import Input, Conv2D, Lambda, merge, Dense, Flatten,MaxPooling2D,Dropout\n",
        "from keras.models import Model, Sequential\n",
        "from keras.regularizers import l2,l1\n",
        "from keras import backend as K\n",
        "from keras.optimizers import SGD,Adam,RMSprop\n",
        "from keras import initializers\n",
        "import numpy as np\n",
        "import random"
      ],
      "execution_count": 0,
      "outputs": [
        {
          "output_type": "stream",
          "text": [
            "Using TensorFlow backend.\n"
          ],
          "name": "stderr"
        }
      ]
    },
    {
      "cell_type": "code",
      "metadata": {
        "id": "8K3YCdEzIAhX",
        "colab_type": "code",
        "colab": {}
      },
      "source": [
        "num_classes = 3\n",
        "epoch = 20\n"
      ],
      "execution_count": 0,
      "outputs": []
    },
    {
      "cell_type": "code",
      "metadata": {
        "id": "YCy7-E1GIE4_",
        "colab_type": "code",
        "colab": {}
      },
      "source": [
        "def euclidean_distance(vects):\n",
        "    x, y = vects\n",
        "    sum_square = K.sum(K.square(x - y), axis=1, keepdims=True)\n",
        "    return K.sqrt(K.maximum(sum_square, K.epsilon()))\n",
        "\n",
        "\n",
        "def eucl_dist_output_shape(shapes):\n",
        "    shape1, shape2 = shapes\n",
        "    return (shape1[0], 1)\n",
        "\n",
        "\n",
        "def contrastive_loss(y_true, y_pred):\n",
        "    '''Contrastive loss from Hadsell-et-al.'06\n",
        "    http://yann.lecun.com/exdb/publis/pdf/hadsell-chopra-lecun-06.pdf\n",
        "    '''\n",
        "    margin = 1\n",
        "    sqaure_pred = K.square(y_pred)\n",
        "    margin_square = K.square(K.maximum(margin - y_pred, 0))\n",
        "    return K.mean(y_true * sqaure_pred + (1 - y_true) * margin_square)\n",
        "\n",
        "def accuracy(y_true, y_pred):\n",
        "    '''Compute classification accuracy with a fixed threshold on distances.\n",
        "    '''\n",
        "    return K.mean(K.equal(y_true, K.cast(y_pred < 0.5, y_true.dtype)))\n"
      ],
      "execution_count": 0,
      "outputs": []
    },
    {
      "cell_type": "code",
      "metadata": {
        "id": "1ZbFknXIjRN8",
        "colab_type": "code",
        "colab": {}
      },
      "source": [
        "def build_net_encoder(input_shape):\n",
        "  \n",
        "  input=Input(shape=input_shape)\n",
        "  x=Conv2D(filters=32,kernel_size=(3,3),strides=(1, 1),padding='same',kernel_initializer='glorot_uniform',bias_initializer='glorot_uniform',data_format='channels_last',input_shape=input_shape,\n",
        "           activation='relu',name='layer_1')(input)\n",
        "  x=Conv2D(filters=32,kernel_size=(3,3),strides=(1, 1),kernel_initializer='glorot_uniform',bias_initializer='glorot_uniform',padding='same',activation='relu',name='layer_2')(x)\n",
        "  x=MaxPooling2D(strides=(2,2),padding='same')(x)\n",
        "  x=Conv2D(filters=128,kernel_size=(3,3),kernel_initializer='glorot_uniform',bias_initializer='glorot_uniform',strides=(1, 1),padding='same',activation='relu',name='layer_3')(x)\n",
        "  x=Conv2D(filters=128,kernel_size=(3,3),kernel_initializer='glorot_uniform',bias_initializer='glorot_uniform',strides=(1, 1),padding='same',activation='relu',name='layer_4')(x)\n",
        "  x=MaxPooling2D(strides=(2,2),padding='same')(x)\n",
        "  x=Flatten(name='Layer_Klasifikasi')(x)\n",
        "  x=Dense(1024,kernel_initializer='glorot_uniform',bias_initializer='glorot_uniform',activation='relu',name='layer_5')(x)\n",
        "  x=Dense(1024,kernel_initializer='glorot_uniform',bias_initializer='glorot_uniform',activation='relu',name='layer_6')(x)\n",
        "  x=Dense(num_classes,activation='softmax',kernel_initializer='glorot_uniform',bias_initializer='glorot_uniform',name='layer_7_output')(x)\n",
        "   \n",
        "  return Model(input,x)\n",
        "\n",
        "def load_data(filepathX,filepathY):\n",
        "  X=np.load(filepathX)\n",
        "  Y=np.load(filepathY)\n",
        "  \n",
        "  return X,Y"
      ],
      "execution_count": 0,
      "outputs": []
    },
    {
      "cell_type": "code",
      "metadata": {
        "id": "x3CCrEcomhEo",
        "colab_type": "code",
        "colab": {}
      },
      "source": [
        "def create_pairs(x, digit_indices):\n",
        "    '''Positive and negative pair creation.\n",
        "    Alternates between positive and negative pairs.\n",
        "    '''\n",
        "    pairs = []\n",
        "    labels = []\n",
        "#     random.seed()\n",
        "    n = min([len(digit_indices[d]) for d in range(num_classes)]) - 1\n",
        "    print(n)\n",
        "    for d in range(num_classes):\n",
        "        for i in range(n):\n",
        "            z1, z2 = digit_indices[d][i], digit_indices[d][i + 1]\n",
        "            pairs += [[x[z1], x[z2]]]\n",
        "            inc = random.randrange(1, num_classes)\n",
        "#             randomNum.append(inc)\n",
        "            dn = (d + inc) % num_classes\n",
        "            z1, z2 = digit_indices[d][i], digit_indices[dn][i]\n",
        "            pairs += [[x[z1], x[z2]]]\n",
        "            labels += [1, 0]\n",
        "    return np.array(pairs), np.array(labels)"
      ],
      "execution_count": 0,
      "outputs": []
    },
    {
      "cell_type": "markdown",
      "metadata": {
        "id": "DbeKfXfrGFHA",
        "colab_type": "text"
      },
      "source": [
        "FUNGSI MAIN "
      ]
    },
    {
      "cell_type": "code",
      "metadata": {
        "id": "t3S3U_yUBljs",
        "colab_type": "code",
        "outputId": "3e77cfe8-6574-4224-9a76-f53cb835f7e2",
        "colab": {
          "base_uri": "https://localhost:8080/",
          "height": 34
        }
      },
      "source": [
        "#ini MFCC\n",
        "X_train,Y_train=load_data('/content/drive/My Drive/dataset/Train/TrainSetMFCC.npy','/content/drive/My Drive/dataset/Train/TrainlabelMFCC.npy')\n",
        "X_val,Y_val=load_data('/content/drive/My Drive/dataset/Validation/ValSetMFCC.npy','/content/drive/My Drive/dataset/Validation/VallabelMFCC.npy')\n",
        "X_test,Y_test=load_data('/content/drive/My Drive/dataset/TestSet/TestSetMFCC.npy','/content/drive/My Drive/dataset/TestSet/TestlabelMFCC.npy')\n",
        "\n",
        "X_train=X_train.reshape(-1,X_train.shape[1],X_train.shape[2],1)\n",
        "X_val=X_val.reshape(-1,X_val.shape[1],X_val.shape[2],1)\n",
        "X_test=X_test.reshape(-1,X_test.shape[1],X_test.shape[2],1)\n"
      ],
      "execution_count": 0,
      "outputs": [
        {
          "output_type": "stream",
          "text": [
            "(1665, 100, 32, 1)\n"
          ],
          "name": "stdout"
        }
      ]
    },
    {
      "cell_type": "code",
      "metadata": {
        "id": "VNNLYBPPhAxW",
        "colab_type": "code",
        "outputId": "b54909a7-9c8d-4b95-ca42-a06eb7397a2d",
        "colab": {
          "base_uri": "https://localhost:8080/",
          "height": 68
        }
      },
      "source": [
        "#create pair set\n",
        "\n",
        "#Train\n",
        "speaker_indices = [np.where(Y_train == i)[0] for i in range(num_classes)]\n",
        "Train_pair,Train_label=create_pairs(X_train, speaker_indices)\n",
        "\n",
        "\n",
        "#Validation\n",
        "speakerval_indices = [np.where(Y_val == i)[0] for i in range(num_classes)]\n",
        "Val_pair,Val_label=create_pairs(X_val, speakerval_indices)\n",
        "\n",
        "input_shape=X_val.shape[1:]\n",
        "print(input_shape)"
      ],
      "execution_count": 0,
      "outputs": [
        {
          "output_type": "stream",
          "text": [
            "[0 0 0 ... 0 0 0]\n",
            "-1\n",
            "[] []\n"
          ],
          "name": "stdout"
        }
      ]
    },
    {
      "cell_type": "code",
      "metadata": {
        "id": "w72OSmAzIxvm",
        "colab_type": "code",
        "outputId": "d5156a6b-9928-4ae3-926d-382837751407",
        "colab": {
          "base_uri": "https://localhost:8080/",
          "height": 370
        }
      },
      "source": [
        "encoder=build_net_encoder(input_shape)\n",
        "\n",
        "left_in=Input(shape=input_shape,name='left_input')\n",
        "right_in=Input(shape=input_shape,name='right_input')\n",
        "\n",
        "left_net=encoder(left_in)\n",
        "right_net=encoder(right_in)\n",
        "\n",
        "distance = Lambda(euclidean_distance,\n",
        "                  output_shape=eucl_dist_output_shape)([left_net, right_net])\n",
        "\n",
        "siamese= Model([left_in, right_in], distance)\n",
        "siamese.summary()"
      ],
      "execution_count": 0,
      "outputs": [
        {
          "output_type": "stream",
          "text": [
            "WARNING:tensorflow:From /usr/local/lib/python3.6/dist-packages/tensorflow/python/framework/op_def_library.py:263: colocate_with (from tensorflow.python.framework.ops) is deprecated and will be removed in a future version.\n",
            "Instructions for updating:\n",
            "Colocations handled automatically by placer.\n",
            "__________________________________________________________________________________________________\n",
            "Layer (type)                    Output Shape         Param #     Connected to                     \n",
            "==================================================================================================\n",
            "left_input (InputLayer)         (None, 97, 32, 1)    0                                            \n",
            "__________________________________________________________________________________________________\n",
            "right_input (InputLayer)        (None, 97, 32, 1)    0                                            \n",
            "__________________________________________________________________________________________________\n",
            "model_1 (Model)                 (None, 3)            27462243    left_input[0][0]                 \n",
            "                                                                 right_input[0][0]                \n",
            "__________________________________________________________________________________________________\n",
            "lambda_1 (Lambda)               (None, 1)            0           model_1[1][0]                    \n",
            "                                                                 model_1[2][0]                    \n",
            "==================================================================================================\n",
            "Total params: 27,462,243\n",
            "Trainable params: 27,462,243\n",
            "Non-trainable params: 0\n",
            "__________________________________________________________________________________________________\n"
          ],
          "name": "stdout"
        }
      ]
    },
    {
      "cell_type": "code",
      "metadata": {
        "id": "kjXSdXM7uI5I",
        "colab_type": "code",
        "colab": {}
      },
      "source": [
        "#get initial weight and bias\n",
        "weight=[]\n",
        "for lay in encoder.layers:\n",
        "    print(lay.name)\n",
        "    print(lay.get_weights())\n",
        "    weight.append(lay.get_weights())"
      ],
      "execution_count": 0,
      "outputs": []
    },
    {
      "cell_type": "code",
      "metadata": {
        "id": "0Ty4RFscvK79",
        "colab_type": "code",
        "outputId": "a36b8986-97d0-4401-ee7c-b31788987ff8",
        "colab": {
          "base_uri": "https://localhost:8080/",
          "height": 770
        }
      },
      "source": [
        "# train\n",
        "\n",
        "from keras.callbacks import EarlyStopping\n",
        "\n",
        "early_stopping = EarlyStopping(monitor='val_loss',patience=4, verbose=1)\n",
        "\n",
        "optimizer = SGD(lr=0.01, decay=0.1, momentum=0.1, nesterov=False)\n",
        "siamese.compile(loss=contrastive_loss, optimizer=optimizer, metrics=[accuracy])\n",
        "history=siamese.fit([Train_pair[:, 0], Train_pair[:, 1]], Train_label,\n",
        "          batch_size=50,\n",
        "          epochs=epoch,\n",
        "          shuffle=False,\n",
        "          callbacks=[early_stopping],\n",
        "          validation_data=([Val_pair[:, 0], Val_pair[:, 1]], Val_label))\n",
        "\n",
        "#solusi nya bikin si model nge inisialisasi ulang weight dan bias nya saja"
      ],
      "execution_count": 0,
      "outputs": [
        {
          "output_type": "stream",
          "text": [
            "WARNING:tensorflow:From /usr/local/lib/python3.6/dist-packages/tensorflow/python/ops/math_ops.py:3066: to_int32 (from tensorflow.python.ops.math_ops) is deprecated and will be removed in a future version.\n",
            "Instructions for updating:\n",
            "Use tf.cast instead.\n",
            "Train on 9984 samples, validate on 6654 samples\n",
            "Epoch 1/20\n",
            "9984/9984 [==============================] - 30s 3ms/step - loss: 0.1634 - accuracy: 0.7552 - val_loss: 0.1455 - val_accuracy: 0.7839\n",
            "Epoch 2/20\n",
            "9984/9984 [==============================] - 24s 2ms/step - loss: 0.1146 - accuracy: 0.8267 - val_loss: 0.1339 - val_accuracy: 0.8127\n",
            "Epoch 3/20\n",
            "9984/9984 [==============================] - 24s 2ms/step - loss: 0.1078 - accuracy: 0.8319 - val_loss: 0.1304 - val_accuracy: 0.8209\n",
            "Epoch 4/20\n",
            "9984/9984 [==============================] - 24s 2ms/step - loss: 0.1043 - accuracy: 0.8375 - val_loss: 0.1282 - val_accuracy: 0.8263\n",
            "Epoch 5/20\n",
            "9984/9984 [==============================] - 24s 2ms/step - loss: 0.1022 - accuracy: 0.8407 - val_loss: 0.1266 - val_accuracy: 0.8302\n",
            "Epoch 6/20\n",
            "9984/9984 [==============================] - 24s 2ms/step - loss: 0.1007 - accuracy: 0.8431 - val_loss: 0.1253 - val_accuracy: 0.8323\n",
            "Epoch 7/20\n",
            "9984/9984 [==============================] - 24s 2ms/step - loss: 0.0997 - accuracy: 0.8454 - val_loss: 0.1242 - val_accuracy: 0.8348\n",
            "Epoch 8/20\n",
            "9984/9984 [==============================] - 24s 2ms/step - loss: 0.0989 - accuracy: 0.8462 - val_loss: 0.1234 - val_accuracy: 0.8360\n",
            "Epoch 9/20\n",
            "9984/9984 [==============================] - 24s 2ms/step - loss: 0.0982 - accuracy: 0.8472 - val_loss: 0.1227 - val_accuracy: 0.8369\n",
            "Epoch 10/20\n",
            "9984/9984 [==============================] - 24s 2ms/step - loss: 0.0977 - accuracy: 0.8481 - val_loss: 0.1221 - val_accuracy: 0.8378\n",
            "Epoch 11/20\n",
            "9984/9984 [==============================] - 24s 2ms/step - loss: 0.0972 - accuracy: 0.8477 - val_loss: 0.1216 - val_accuracy: 0.8390\n",
            "Epoch 12/20\n",
            "9984/9984 [==============================] - 24s 2ms/step - loss: 0.0967 - accuracy: 0.8473 - val_loss: 0.1211 - val_accuracy: 0.8404\n",
            "Epoch 13/20\n",
            "9984/9984 [==============================] - 24s 2ms/step - loss: 0.0963 - accuracy: 0.8483 - val_loss: 0.1207 - val_accuracy: 0.8408\n",
            "Epoch 14/20\n",
            "9984/9984 [==============================] - 24s 2ms/step - loss: 0.0960 - accuracy: 0.8480 - val_loss: 0.1203 - val_accuracy: 0.8413\n",
            "Epoch 15/20\n",
            "9984/9984 [==============================] - 24s 2ms/step - loss: 0.0956 - accuracy: 0.8482 - val_loss: 0.1199 - val_accuracy: 0.8428\n",
            "Epoch 16/20\n",
            "9984/9984 [==============================] - 24s 2ms/step - loss: 0.0953 - accuracy: 0.8483 - val_loss: 0.1196 - val_accuracy: 0.8424\n",
            "Epoch 17/20\n",
            "9984/9984 [==============================] - 24s 2ms/step - loss: 0.0951 - accuracy: 0.8489 - val_loss: 0.1193 - val_accuracy: 0.8425\n",
            "Epoch 18/20\n",
            "9984/9984 [==============================] - 24s 2ms/step - loss: 0.0948 - accuracy: 0.8496 - val_loss: 0.1190 - val_accuracy: 0.8428\n",
            "Epoch 19/20\n",
            "9984/9984 [==============================] - 24s 2ms/step - loss: 0.0945 - accuracy: 0.8500 - val_loss: 0.1187 - val_accuracy: 0.8428\n",
            "Epoch 20/20\n",
            "9984/9984 [==============================] - 24s 2ms/step - loss: 0.0943 - accuracy: 0.8500 - val_loss: 0.1185 - val_accuracy: 0.8433\n"
          ],
          "name": "stdout"
        }
      ]
    },
    {
      "cell_type": "markdown",
      "metadata": {
        "id": "iY0sQ0MAy5RD",
        "colab_type": "text"
      },
      "source": [
        "RESULT "
      ]
    },
    {
      "cell_type": "code",
      "metadata": {
        "id": "KiA4zPdJb3es",
        "colab_type": "code",
        "outputId": "b5e0a324-f416-4f0c-bed9-a7b592a18cb8",
        "colab": {
          "base_uri": "https://localhost:8080/",
          "height": 734
        }
      },
      "source": [
        "\n",
        "from matplotlib import pyplot as plt\n",
        "import matplotlib.image as mpimg\n",
        "\n",
        "def plot_history(history):\n",
        "    plt.plot(history.history['loss'],'r--')\n",
        "    plt.plot(history.history['val_loss'],'b-')\n",
        "    plt.title('Model Loss')\n",
        "    plt.legend(['Train Loss', 'Valid Loss'])\n",
        "    plt.xlabel('Epoch')\n",
        "    plt.ylabel('Loss')\n",
        "    plt.show();\n",
        "    plt.plot(history.history['accuracy'],'r--')\n",
        "    plt.plot(history.history['val_accuracy'],'b-')\n",
        "    plt.title('Model Accuracy')\n",
        "    plt.legend(['Train Acc', 'Valid Acc'])\n",
        "    plt.ylabel('Accuracy')\n",
        "    plt.xlabel('Epoch')\n",
        "    plt.show()\n",
        "\n",
        "# requires history=model.fit, fit_generator...\n",
        "plot_history(history)"
      ],
      "execution_count": 0,
      "outputs": [
        {
          "output_type": "display_data",
          "data": {
            "image/png": "[encoded data removed]",
            "text/plain": [
              "<Figure size 576x396 with 1 Axes>"
            ]
          },
          "metadata": {
            "tags": []
          }
        },
        {
          "output_type": "display_data",
          "data": {
            "image/png": "[encoded data removed]",
            "text/plain": [
              "<Figure size 576x396 with 1 Axes>"
            ]
          },
          "metadata": {
            "tags": []
          }
        }
      ]
    },
    {
      "cell_type": "code",
      "metadata": {
        "id": "FfWX8YBDUOVp",
        "colab_type": "code",
        "colab": {}
      },
      "source": [
        "from numpy.random import randint\n",
        "\n",
        "def klasisifkasi(model_siamese,data_sampel,train_sampel):\n",
        "  pass\n",
        "\n",
        "\n",
        "def beta_classification(model_siamese,data_sampel,train_sampel,train_batas_atas,train_batas_bawah):\n",
        "  indeks=np.random.randint(low=train_batas_bawah,high=train_batas_atas)\n",
        "  model_siamese.predict([np.expand_dims(train_sampel[indeks,:],axis=0),np.expand_dims(data_sampel,axis=0)])"
      ],
      "execution_count": 0,
      "outputs": []
    },
    {
      "cell_type": "code",
      "metadata": {
        "id": "GUEcDmVKCx0X",
        "colab_type": "code",
        "outputId": "b0b9355f-b3e2-4552-d788-d43191b733cf",
        "colab": {
          "base_uri": "https://localhost:8080/",
          "height": 66
        }
      },
      "source": [
        "#test model\n",
        "#solusi ribet : \n",
        "#ambil satu sampel acak per kelas untuk dibandingkan\n",
        "\n",
        "TEST_VAR=3552\n",
        "TRAIN_VAR=3000\n",
        "# print(Y_test[0:1332]) # kelas 2\n",
        "# print(Y_test[1332:2664]) #kelas 1\n",
        "# print(Y_test[2664:5328]) #kelas 0\n",
        "\n",
        "# print(Y_train[0:1665]) #kelas 1\n",
        "# print(Y_train[1665:3330]) #kelas 0\n",
        "# print(Y_train[3330:6660]) #kelas 2\n",
        "\n",
        "kelas1_test=X_test[2664:5328]\n",
        "kelas2_test=X_test[1332:2664]\n",
        "kelas3_test=X_test[0:1332]\n",
        "\n",
        "kelas1_train=X_test[1665:3330]\n",
        "kelas2_train=X_test[0:1665]\n",
        "kelas3_train=X_test[3330:6660]\n",
        "\n",
        "# beta_classification(siamese,kelas1_test[1],kelas1_train,3330,1665)\n",
        "\n",
        "print(Y_train[TRAIN_VAR])\n",
        "print(Y_test[TEST_VAR])\n",
        "\n",
        "#parameter (datasampel yang dimiliki,datasampel input suara)\n",
        "siamese.predict([np.expand_dims(X_train[TRAIN_VAR,:],axis=0),np.expand_dims(X_test[TEST_VAR,:],axis=0)])\n",
        "\n",
        "\n",
        "# expand_dims ini dipakai untuk mengkonversi dimensi test set agar sama dengan train set, monggo di implementasikan\n",
        "# print(np.expand_dims(X_val[0,:],axis=0).shape)\n",
        "\n"
      ],
      "execution_count": 0,
      "outputs": [
        {
          "output_type": "stream",
          "text": [
            "0\n",
            "0\n"
          ],
          "name": "stdout"
        },
        {
          "output_type": "execute_result",
          "data": {
            "text/plain": [
              "array([[0.19595182]], dtype=float32)"
            ]
          },
          "metadata": {
            "tags": []
          },
          "execution_count": 13
        }
      ]
    }
  ]
}